{
 "cells": [
  {
   "cell_type": "markdown",
   "id": "c2ab68b8",
   "metadata": {},
   "source": [
    "# Tuning fingerprint parameters"
   ]
  },
  {
   "cell_type": "markdown",
   "id": "b1a49aed",
   "metadata": {},
   "source": [
    "Here, we showcase how electronic density-of-states (DOS) fingerprints can be tuned to focus on different energy ranges."
   ]
  },
  {
   "cell_type": "markdown",
   "id": "6052e71e",
   "metadata": {},
   "source": [
    "## Data download"
   ]
  },
  {
   "cell_type": "code",
   "execution_count": null,
   "id": "e61de8af",
   "metadata": {},
   "outputs": [],
   "source": [
    "from os.path import exists as path_exists"
   ]
  },
  {
   "cell_type": "markdown",
   "id": "960694e4",
   "metadata": {},
   "source": [
    "We re-use data from Ref. [1], which is based on the electronic density of states of 2D materials from the [C2DB](https://cmr.fysik.dtu.dk/c2db/c2db.html) [2,3]. We download the data and unpack it:"
   ]
  },
  {
   "cell_type": "code",
   "execution_count": null,
   "id": "94790a8c",
   "metadata": {},
   "outputs": [],
   "source": [
    "if not path_exists(\"C2DB_TDOS.json.zip\"):\n",
    "    !curl -o C2DB_TDOS.json.zip https://raw.githubusercontent.com/kubanmar/dos-fingerprints-data/master/dos_data_and_fingerprints.json.zip"
   ]
  },
  {
   "cell_type": "code",
   "execution_count": null,
   "id": "e6b42887",
   "metadata": {},
   "outputs": [],
   "source": [
    "if not path_exists(\"dos_data_and_fingerprints.json\"):\n",
    "    !unzip C2DB_TDOS.json.zip"
   ]
  },
  {
   "cell_type": "markdown",
   "id": "1556e7ca",
   "metadata": {},
   "source": [
    "## Generation of DOS fingerprints"
   ]
  },
  {
   "cell_type": "code",
   "execution_count": null,
   "id": "31740ce0",
   "metadata": {},
   "outputs": [],
   "source": [
    "import json"
   ]
  },
  {
   "cell_type": "code",
   "execution_count": null,
   "id": "92e17fd4",
   "metadata": {},
   "outputs": [],
   "source": [
    "from madas.fingerprints import DOSFingerprint\n",
    "from madas.utils import tqdm"
   ]
  },
  {
   "cell_type": "code",
   "execution_count": null,
   "id": "6f94c347",
   "metadata": {},
   "outputs": [],
   "source": [
    "# Load dos data\n",
    "with open(\"dos_data_and_fingerprints.json\", \"r\") as f_:\n",
    "    dos_data = json.load(f_)"
   ]
  },
  {
   "cell_type": "markdown",
   "id": "85a96f73",
   "metadata": {},
   "source": [
    "Following `Grid` parameters from [1]:\n",
    " - Δεmin = 0.05 eV\n",
    " - Δεmax = 1.05 eV\n",
    " - N = Δεmax/Δεmin = 21\n",
    " - εref = 0 eV \n",
    " - W = 4 eV \n",
    " - WH = 4 eV\n",
    " - Nρ = 512\n",
    " - ρmin = NρΔρmin = 0.25\n",
    " - ρmax = 2.75\n",
    " - NH = ρmax/ρmin = 11\n",
    " \n",
    " We define the grid for the fingerprint: "
   ]
  },
  {
   "cell_type": "code",
   "execution_count": null,
   "id": "15bbfe88",
   "metadata": {},
   "outputs": [],
   "source": [
    "grid_original = DOSFingerprint.get_default_grid().create(delta_e_min=0.05, \n",
    "                                                         delta_e_max=1.05, \n",
    "                                                         e_ref=0, \n",
    "                                                         width=4, \n",
    "                                                         n_pix=512, \n",
    "                                                         delta_rho_min=0.25, \n",
    "                                                         delta_rho_max=2.75, \n",
    "                                                         cutoff=[-3,3])"
   ]
  },
  {
   "cell_type": "markdown",
   "id": "650eccd4",
   "metadata": {},
   "source": [
    "and compute the fingerprints for all the data entries in the data set."
   ]
  },
  {
   "cell_type": "code",
   "execution_count": null,
   "id": "ef663956",
   "metadata": {},
   "outputs": [],
   "source": [
    "ZERO_fps = []\n",
    "for key, raw_data in tqdm(dos_data.items()):\n",
    "    # We generate a new fingerprint using the grid id of our grid\n",
    "    new_fp = DOSFingerprint(grid_id=grid_original.get_grid_id()).calculate(raw_data[\"energy\"], \n",
    "                                                                           raw_data[\"dos\"], \n",
    "                                                                           convert_data=None)\n",
    "    # because we use the DOSFingerprint().calculate() method, the id of the fingerprints is not\n",
    "    # set automatically. We therefore have to set it:\n",
    "    new_fp.set_mid(key)\n",
    "    # and append the new fingerprint to the list\n",
    "    ZERO_fps.append(new_fp)"
   ]
  },
  {
   "cell_type": "markdown",
   "id": "83e66fb8",
   "metadata": {},
   "source": [
    "Next we create a new grid with focus on the conductions bands, by changing the reference energy to $2$ eV. From this new grid we create the respective fingerprints."
   ]
  },
  {
   "cell_type": "code",
   "execution_count": null,
   "id": "7f1955c7",
   "metadata": {},
   "outputs": [],
   "source": [
    "grid_PLU2 = grid_original.copy()\n",
    "\n",
    "# set reference energy to +2 eV\n",
    "grid_PLU2.e_ref = 2\n",
    "\n",
    "# the cutoff is defined w.r.t. the reference energy\n",
    "# therefore we must adapt the cutoff when changing\n",
    "# the reference energy\n",
    "grid_PLU2.cutoff_min = -5\n",
    "grid_PLU2.cutoff_max = 1\n",
    "\n",
    "PLU2_fps = []\n",
    "for key, raw_data in tqdm(dos_data.items()):\n",
    "    new_fp = DOSFingerprint(grid_id=grid_PLU2.get_grid_id()).calculate(raw_data[\"energy\"], \n",
    "                                                                           raw_data[\"dos\"], \n",
    "                                                                           convert_data=None)\n",
    "    new_fp.set_mid(key)\n",
    "    PLU2_fps.append(new_fp)"
   ]
  },
  {
   "cell_type": "markdown",
   "id": "e8eb8950",
   "metadata": {},
   "source": [
    "We create another set of fingerprints with the focus of the grid in the valence bands, by setting the reference energy of the grid to $-2$ eV."
   ]
  },
  {
   "cell_type": "code",
   "execution_count": null,
   "id": "f1c0b321",
   "metadata": {},
   "outputs": [],
   "source": [
    "grid_MIN2 = grid_original.copy()\n",
    "\n",
    "# set reference energy to -2 eV\n",
    "grid_MIN2.e_ref = -2\n",
    "# adapt cutoff\n",
    "grid_MIN2.cutoff_min = -1\n",
    "grid_MIN2.cutoff_max = 5\n",
    "\n",
    "MIN2_fps = []\n",
    "for key, raw_data in tqdm(dos_data.items()):\n",
    "    new_fp = DOSFingerprint(grid_id=grid_MIN2.get_grid_id()).calculate(raw_data[\"energy\"], \n",
    "                                                                           raw_data[\"dos\"], \n",
    "                                                                           convert_data=None)\n",
    "    new_fp.set_mid(key)\n",
    "    MIN2_fps.append(new_fp)"
   ]
  },
  {
   "cell_type": "markdown",
   "id": "da021061",
   "metadata": {},
   "source": [
    "## Calculation of similarity matrices"
   ]
  },
  {
   "cell_type": "code",
   "execution_count": null,
   "id": "a752d0f0",
   "metadata": {},
   "outputs": [],
   "source": [
    "from madas import SimilarityMatrix"
   ]
  },
  {
   "cell_type": "code",
   "execution_count": null,
   "id": "43073b72",
   "metadata": {},
   "outputs": [],
   "source": [
    "%%time\n",
    "ZERO_simat = SimilarityMatrix().calculate(ZERO_fps)"
   ]
  },
  {
   "cell_type": "code",
   "execution_count": null,
   "id": "81979832",
   "metadata": {},
   "outputs": [],
   "source": [
    "%%time\n",
    "PLU2_simat = SimilarityMatrix().calculate(PLU2_fps)"
   ]
  },
  {
   "cell_type": "code",
   "execution_count": null,
   "id": "0c519162",
   "metadata": {},
   "outputs": [],
   "source": [
    "%%time\n",
    "MIN2_simat = SimilarityMatrix().calculate(MIN2_fps)"
   ]
  },
  {
   "cell_type": "markdown",
   "id": "3187953c",
   "metadata": {},
   "source": [
    "## Searching for most similar materials"
   ]
  },
  {
   "cell_type": "markdown",
   "id": "bb241a97",
   "metadata": {},
   "source": [
    "Having the similarity matrices calculated, it is quick to obtain the most similar materials from them. We choose a reference material:"
   ]
  },
  {
   "cell_type": "code",
   "execution_count": null,
   "id": "8efcb529",
   "metadata": {},
   "outputs": [],
   "source": [
    "ref_mid = \"ZrTe2-f7ad606317e6\""
   ]
  },
  {
   "cell_type": "markdown",
   "id": "201ae829",
   "metadata": {},
   "source": [
    "and, for each similarity matrix, obtain the most similar materials alongside with their similarities to the reference. "
   ]
  },
  {
   "cell_type": "code",
   "execution_count": null,
   "id": "8530fed9",
   "metadata": {},
   "outputs": [],
   "source": [
    "# Most similar materials for fingerprints with focus on the Fermi energy...\n",
    "ZERO_simat.get_k_most_similar(ref_mid, k=2)"
   ]
  },
  {
   "cell_type": "code",
   "execution_count": null,
   "id": "9f3d9586",
   "metadata": {},
   "outputs": [],
   "source": [
    "# ... the conduction bands ...\n",
    "PLU2_simat.get_k_most_similar(ref_mid, k=2)"
   ]
  },
  {
   "cell_type": "code",
   "execution_count": null,
   "id": "4d48b853",
   "metadata": {},
   "outputs": [],
   "source": [
    "# ... and the valance bands.\n",
    "MIN2_simat.get_k_most_similar(ref_mid, k=2)"
   ]
  },
  {
   "cell_type": "code",
   "execution_count": null,
   "id": "b1cd41de",
   "metadata": {},
   "outputs": [],
   "source": [
    "# create sets containing the ids of the two most similar materials\n",
    "ZERO_most_similar_mids = list(ZERO_simat.get_k_most_similar(ref_mid, k=2).keys())\n",
    "PLU2_most_similar_mids = list(PLU2_simat.get_k_most_similar(ref_mid, k=2).keys())\n",
    "MIN2_most_similar_mids = list(MIN2_simat.get_k_most_similar(ref_mid, k=2).keys())"
   ]
  },
  {
   "cell_type": "code",
   "execution_count": null,
   "id": "6aebf7bf",
   "metadata": {},
   "outputs": [],
   "source": [
    "# create a set that contains all og the former\n",
    "all_similar_mids = []\n",
    "all_similar_mids.extend(ZERO_most_similar_mids)\n",
    "all_similar_mids.extend(PLU2_most_similar_mids)\n",
    "all_similar_mids.extend(MIN2_most_similar_mids)"
   ]
  },
  {
   "cell_type": "code",
   "execution_count": null,
   "id": "93d0923a",
   "metadata": {},
   "outputs": [],
   "source": [
    "# And generate a list that starts with the reference material\n",
    "# (this is not strictly necessary, but helpful for the figure)\n",
    "all_mids = [ref_mid] + list(sorted(set(all_similar_mids)))"
   ]
  },
  {
   "cell_type": "code",
   "execution_count": null,
   "id": "7b0b16a5",
   "metadata": {},
   "outputs": [],
   "source": [
    "# We can inspect the contents of our list:\n",
    "for mid in all_mids:\n",
    "    print(mid)"
   ]
  },
  {
   "cell_type": "markdown",
   "id": "2d228cfd",
   "metadata": {},
   "source": [
    "## Comparing the most similar materials"
   ]
  },
  {
   "cell_type": "markdown",
   "id": "a403dbea",
   "metadata": {},
   "source": [
    "We import the analysis tool that can be used to compare two spectra from `MADAS`. This is done by setting the cutoff to a smal value and moving the reference energy of the fingerprint grid accross the whole defined energy region. Thereby, we can analyse in which energy regions the spectra are most similar."
   ]
  },
  {
   "cell_type": "code",
   "execution_count": null,
   "id": "8655929d",
   "metadata": {},
   "outputs": [],
   "source": [
    "from madas.analysis import StrideSpectrumComparison"
   ]
  },
  {
   "cell_type": "code",
   "execution_count": null,
   "id": "8a0f21cb",
   "metadata": {},
   "outputs": [],
   "source": [
    "# We use the original grid settings.\n",
    "ssc = StrideSpectrumComparison(grid_id=grid_original.get_grid_id(), show_progress=False)"
   ]
  },
  {
   "cell_type": "code",
   "execution_count": null,
   "id": "0e869641",
   "metadata": {},
   "outputs": [],
   "source": [
    "# we define a function that returns a dos spectrum given an id\n",
    "def get_dos_value(mid: str):\n",
    "    return dos_data[mid][\"energy\"], dos_data[mid][\"dos\"]"
   ]
  },
  {
   "cell_type": "markdown",
   "id": "2ee27fb5",
   "metadata": {},
   "source": [
    "The function to generate this plot can be found [here](https://github.com/kubanmar/madas-examples/blob/master/notebooks/plotting_functions.py):"
   ]
  },
  {
   "cell_type": "code",
   "execution_count": null,
   "id": "21c19fc9",
   "metadata": {},
   "outputs": [],
   "source": [
    "from plotting_functions import fingerprint_tuning_comparison_plot\n",
    "import matplotlib.pyplot as plt\n",
    "plt.style.use(\"./settings.mplstyle\")"
   ]
  },
  {
   "cell_type": "code",
   "execution_count": null,
   "id": "857d498e",
   "metadata": {},
   "outputs": [],
   "source": [
    "fingerprint_tuning_comparison_plot(get_dos_value,\n",
    "                                   ssc,\n",
    "                                   all_mids,\n",
    "                                   ref_mid,\n",
    "                                   PLU2_most_similar_mids, \n",
    "                                   MIN2_most_similar_mids, \n",
    "                                   filename=None)"
   ]
  },
  {
   "cell_type": "code",
   "execution_count": null,
   "id": "f2cd6ee9",
   "metadata": {},
   "outputs": [],
   "source": [
    "# crystal structures and properties for reference\n",
    "for mid in all_mids:\n",
    "    print(f\"https://cmrdb.fysik.dtu.dk/c2db/row/{mid}\")"
   ]
  },
  {
   "cell_type": "markdown",
   "id": "52da34e1",
   "metadata": {},
   "source": [
    "## References:\n",
    "\n",
    "[1] Kuban, M., Rigamonti, S., Scheidgen, M. _et al_. _Density-of-states similarity descriptor for unsupervised learning from materials data_. Sci Data **9**, 646 (2022). https://doi.org/10.1038/s41597-022-01754-z\n",
    "\n",
    "[2] Haastrup, S. _et al_. _The Computational 2D Materials Database: High-Throughput Modeling and Discovery of Atomically Thin Crystals_ 2D Materials **5**, 042002 (2018) https://doi.org/10.1088/2053-1583/aacfc1\n",
    "\n",
    "[3] Gjerding, M. N. _et al_. _Recent Progress of the Computational 2D Materials Database (C2DB)_. 2D Materials **8**, 044002 (2021) https://doi.org/10.1088/2053-1583/ac1059\n"
   ]
  }
 ],
 "metadata": {
  "kernelspec": {
   "display_name": "simdatframe-release",
   "language": "python",
   "name": "simdatframe-release"
  },
  "language_info": {
   "codemirror_mode": {
    "name": "ipython",
    "version": 3
   },
   "file_extension": ".py",
   "mimetype": "text/x-python",
   "name": "python",
   "nbconvert_exporter": "python",
   "pygments_lexer": "ipython3",
   "version": "3.10.4"
  }
 },
 "nbformat": 4,
 "nbformat_minor": 5
}
