{
 "cells": [
  {
   "cell_type": "markdown",
   "id": "98887ff3",
   "metadata": {},
   "source": [
    "# Comparison of volumina of materials across materials databases"
   ]
  },
  {
   "cell_type": "code",
   "execution_count": null,
   "id": "92f8d5b2",
   "metadata": {},
   "outputs": [],
   "source": [
    "from madas import MaterialsDatabase, Material\n",
    "from madas.apis.api_core import APIClass, api_call"
   ]
  },
  {
   "cell_type": "code",
   "execution_count": null,
   "id": "562bc62f",
   "metadata": {},
   "outputs": [],
   "source": [
    "from ase import Atoms"
   ]
  },
  {
   "cell_type": "code",
   "execution_count": null,
   "id": "77c4d326",
   "metadata": {},
   "outputs": [],
   "source": [
    "import matplotlib.pyplot as plt"
   ]
  },
  {
   "cell_type": "code",
   "execution_count": null,
   "id": "2ddfe4e9",
   "metadata": {},
   "outputs": [],
   "source": [
    "import numpy as np"
   ]
  },
  {
   "cell_type": "code",
   "execution_count": null,
   "id": "02c0a975",
   "metadata": {},
   "outputs": [],
   "source": [
    "import requests"
   ]
  },
  {
   "cell_type": "code",
   "execution_count": null,
   "id": "57f707a0",
   "metadata": {},
   "outputs": [],
   "source": [
    "from typing import List"
   ]
  },
  {
   "cell_type": "code",
   "execution_count": null,
   "id": "8c9aebad",
   "metadata": {},
   "outputs": [],
   "source": [
    "import os"
   ]
  },
  {
   "cell_type": "markdown",
   "id": "bac2e234",
   "metadata": {},
   "source": [
    "## Define APIs"
   ]
  },
  {
   "cell_type": "markdown",
   "id": "844ebf9a",
   "metadata": {},
   "source": [
    "### AFLOWlib"
   ]
  },
  {
   "cell_type": "code",
   "execution_count": null,
   "id": "9a61f9e8",
   "metadata": {},
   "outputs": [],
   "source": [
    "class AFLOWlibAPI(APIClass):\n",
    "    \n",
    "    def __init__(self):\n",
    "        pass\n",
    "    \n",
    "    @api_call\n",
    "    def get_calculations_by_search(self, query_url: str) -> List[Material]:\n",
    "        res = requests.get(query_url)\n",
    "        materials = []\n",
    "        for comp in res.json():\n",
    "            mid = comp[\"auid\"]\n",
    "            mat_query = \"/\".join([\"https://aflowlib.duke.edu\", comp[\"aurl\"].split(\":\")[1], \"aflowlib.json\"])\n",
    "            mat_res = requests.get(mat_query).json()\n",
    "            at = Atoms(cell=mat_res.pop(\"geometry\"), \n",
    "                       scaled_positions=mat_res.pop(\"positions_fractional\"), \n",
    "                       symbols=mat_res.pop(\"species\"), \n",
    "                       pbc = True)\n",
    "            materials.append(Material(mid, atoms=at, data = mat_res))\n",
    "        return materials"
   ]
  },
  {
   "cell_type": "markdown",
   "id": "fbb01b5e",
   "metadata": {},
   "source": [
    "### OQMD"
   ]
  },
  {
   "cell_type": "code",
   "execution_count": null,
   "id": "89b099eb",
   "metadata": {},
   "outputs": [],
   "source": [
    "class OQMDAPI(APIClass):\n",
    "    \n",
    "    def __init__(self):\n",
    "        pass\n",
    "    \n",
    "    @api_call\n",
    "    def get_calculations_by_search(self, query_url: str) -> List[Material]:\n",
    "        res = requests.get(query_url)\n",
    "        materials = []\n",
    "        for comp in res.json()[\"data\"]:\n",
    "            mid = f\"OQMD:{comp.pop('entry_id')}\"\n",
    "            symbols, positions = [], []\n",
    "            sites = comp.pop(\"sites\")\n",
    "            for site in sites:\n",
    "                symbols.append(site.split(\"@\")[0].strip())\n",
    "                positions.append([float(x) for x in site.split(\"@\")[1].strip().split(' ')])\n",
    "            at = Atoms(cell=comp.pop(\"unit_cell\"), \n",
    "                       scaled_positions=positions, \n",
    "                       symbols=symbols, \n",
    "                       pbc = True)\n",
    "            materials.append(Material(mid, atoms=at, data = comp))\n",
    "        return materials"
   ]
  },
  {
   "cell_type": "markdown",
   "id": "4ecd6fb1",
   "metadata": {},
   "source": [
    "### Materials Project"
   ]
  },
  {
   "cell_type": "code",
   "execution_count": null,
   "id": "3b57182e",
   "metadata": {},
   "outputs": [],
   "source": [
    "from mp_api.client import MPRester"
   ]
  },
  {
   "cell_type": "code",
   "execution_count": null,
   "id": "7bf981f6",
   "metadata": {},
   "outputs": [],
   "source": [
    "class MPAPI(APIClass):\n",
    "    \n",
    "    def __init__(self, api_key=os.environ.get(\"MP_API_KEY\", None)):\n",
    "        self.mprester = MPRester(api_key=api_key)\n",
    "    \n",
    "    @api_call\n",
    "    def get_calculations_by_search(self, **kwargs) -> List[Material]:\n",
    "        materials = []\n",
    "        with self.mprester as mpr:\n",
    "            res = mpr.materials.summary.search(**kwargs)\n",
    "            for mat in res:\n",
    "                mid = mat.material_id.string\n",
    "                materials.append(Material(mid, atoms=mat.structure.to_ase_atoms(), data=mat.dict()))\n",
    "        return materials"
   ]
  },
  {
   "cell_type": "markdown",
   "id": "b69ba13f",
   "metadata": {},
   "source": [
    "## Initialize Databases"
   ]
  },
  {
   "cell_type": "code",
   "execution_count": null,
   "id": "c74ec5e1",
   "metadata": {},
   "outputs": [],
   "source": [
    "db_aflow = MaterialsDatabase(filename = \"NaCl_AFLOW.db\", api = AFLOWlibAPI(), name=\"NaCl_AFLOW\")"
   ]
  },
  {
   "cell_type": "code",
   "execution_count": null,
   "id": "69f6b855",
   "metadata": {},
   "outputs": [],
   "source": [
    "db_oqmd = MaterialsDatabase(filename = \"NaCl_OQMD.db\", api = OQMDAPI(), name=\"NaCl_OQMD\")"
   ]
  },
  {
   "cell_type": "code",
   "execution_count": null,
   "id": "3326b211",
   "metadata": {},
   "outputs": [],
   "source": [
    "db_mp = MaterialsDatabase(filename = \"NaCl_MP.db\", api = MPAPI(), name=\"NaCl_MP\")"
   ]
  },
  {
   "cell_type": "markdown",
   "id": "cdbe4785",
   "metadata": {},
   "source": [
    "## Define queries"
   ]
  },
  {
   "cell_type": "code",
   "execution_count": null,
   "id": "145ccacf",
   "metadata": {},
   "outputs": [],
   "source": [
    "AFLOW_query = r\"https://aflowlib.org/API/aflux/?species(Na,Cl),$catalog(ICSD),$nspecies(2),$paging(1,1000)\""
   ]
  },
  {
   "cell_type": "code",
   "execution_count": null,
   "id": "b9b2a01b",
   "metadata": {},
   "outputs": [],
   "source": [
    "oqmd_base_url = \"http://oqmd.org/oqmdapi/formationenergy\""
   ]
  },
  {
   "cell_type": "code",
   "execution_count": null,
   "id": "11bb3b60",
   "metadata": {},
   "outputs": [],
   "source": [
    "def extend_url(base, field, separator=\"&\") -> str:\n",
    "    return f\"{base}{separator}{field}\""
   ]
  },
  {
   "cell_type": "code",
   "execution_count": null,
   "id": "ba809101",
   "metadata": {},
   "outputs": [],
   "source": [
    "oqmd_query_url = extend_url(oqmd_base_url, \"fields=name,entry_id,spacegroup,ntypes,band_gap,delta_e,unit_cell,configuration_label,sites\", separator=\"?\")\n",
    "oqmd_query_url = extend_url(oqmd_query_url, \"composition=Na1Cl1\")"
   ]
  },
  {
   "cell_type": "code",
   "execution_count": null,
   "id": "7a4ee096",
   "metadata": {},
   "outputs": [],
   "source": [
    "mp_query={\"elements\":[\"Na\", \"Cl\"], \"num_elements\":2}"
   ]
  },
  {
   "cell_type": "markdown",
   "id": "35743cd8",
   "metadata": {},
   "source": [
    "## Download data "
   ]
  },
  {
   "cell_type": "code",
   "execution_count": null,
   "id": "c82c78d1",
   "metadata": {},
   "outputs": [],
   "source": [
    "db_aflow.fill_database(AFLOW_query)"
   ]
  },
  {
   "cell_type": "code",
   "execution_count": null,
   "id": "9cec9725",
   "metadata": {},
   "outputs": [],
   "source": [
    "db_oqmd.fill_database(oqmd_query_url)"
   ]
  },
  {
   "cell_type": "code",
   "execution_count": null,
   "id": "c4649737",
   "metadata": {},
   "outputs": [],
   "source": [
    "db_mp.fill_database(**mp_query)"
   ]
  },
  {
   "cell_type": "markdown",
   "id": "eec8379a",
   "metadata": {},
   "source": [
    "## Compare entries"
   ]
  },
  {
   "cell_type": "markdown",
   "id": "6a4493dc",
   "metadata": {},
   "source": [
    "To analyse the spacegroup we make use of the ASE spacegroup module:"
   ]
  },
  {
   "cell_type": "code",
   "execution_count": null,
   "id": "b78cc568",
   "metadata": {},
   "outputs": [],
   "source": [
    "from ase.spacegroup import get_spacegroup"
   ]
  },
  {
   "cell_type": "markdown",
   "id": "b0deba89",
   "metadata": {},
   "source": [
    "Find spacegroups that are represented in all databases:"
   ]
  },
  {
   "cell_type": "code",
   "execution_count": null,
   "id": "21818972",
   "metadata": {},
   "outputs": [],
   "source": [
    "all_spacegroups=set(get_spacegroup(entry.atoms).no for entry in db_aflow)\n",
    "\n",
    "for db in [db_mp, db_oqmd]:\n",
    "    sgs_in_db = set(get_spacegroup(entry.atoms).no for entry in db)        \n",
    "    all_spacegroups.intersection_update(sgs_in_db)\n",
    "    \n",
    "print(f\"Spacegroups available in all databases: {all_spacegroups}\")    "
   ]
  },
  {
   "cell_type": "code",
   "execution_count": null,
   "id": "f3bfb2e0",
   "metadata": {},
   "outputs": [],
   "source": [
    "# filter and format data for plot\n",
    "plot_data = []\n",
    "materials = {sgn : [] for sgn in all_spacegroups}\n",
    "for db in [db_aflow, db_mp, db_oqmd]:\n",
    "    db_name = db.name.strip(\"NaCl_\")\n",
    "    for entry in db:\n",
    "        sg = get_spacegroup(entry.atoms)\n",
    "        # filter to add only materials that are present in all databases and have 2 atomic unit cells\n",
    "        if sg.no in all_spacegroups and len(entry.atoms) == 2:\n",
    "            plot_data.append([sg.symbol.replace(\" \", \"\"), entry.atoms.get_volume(), db_name])\n",
    "            materials[sg.no].append(entry)"
   ]
  },
  {
   "cell_type": "code",
   "execution_count": null,
   "id": "dfaa1877",
   "metadata": {},
   "outputs": [],
   "source": [
    "plt.figure(figsize = (6,5))\n",
    "for db in [db_aflow, db_mp, db_oqmd]:\n",
    "    db_name = db.name.strip(\"NaCl_\")\n",
    "    sgs, volumes = [], []\n",
    "    for data in filter(lambda x: x[2] == db_name, plot_data):\n",
    "        sgs.append(data[0])\n",
    "        volumes.append(data[1])\n",
    "    plt.scatter(sgs, volumes, label = db_name, marker=\"X\")\n",
    "plt.ylabel(\"Volume [Å$^3$]\")\n",
    "plt.xlabel(\"Space group\")\n",
    "plt.ylim(41,46.5)\n",
    "plt.xlim(-0.5, 1.5)\n",
    "plt.legend(fontsize = 25, fancybox = False, frameon = True, edgecolor=\"k\")\n",
    "# Uncomment this line to save the figure\n",
    "#plt.savefig(\"./ComparingWebDBs.svg\", format=\"svg\", dpi=50)\n",
    "plt.show()"
   ]
  },
  {
   "cell_type": "code",
   "execution_count": null,
   "id": "ddad5014",
   "metadata": {},
   "outputs": [],
   "source": [
    "unique_sg_symbols = tuple(set(x[0] for x in plot_data))"
   ]
  },
  {
   "cell_type": "code",
   "execution_count": null,
   "id": "e0caf1bb",
   "metadata": {},
   "outputs": [],
   "source": [
    "volumes_sg_1 = [x[1] for x in filter(lambda x: x[0]==unique_sg_symbols[0], plot_data)]\n",
    "print(f\"Maximal difference between volumes is {max(volumes_sg_1) - min(volumes_sg_1): .3f} for SG {unique_sg_symbols[0]}.\")"
   ]
  },
  {
   "cell_type": "code",
   "execution_count": null,
   "id": "65f7903c",
   "metadata": {},
   "outputs": [],
   "source": [
    "volumes_sg_2 = [x[1] for x in filter(lambda x: x[0]==unique_sg_symbols[1], plot_data)]\n",
    "print(f\"Maximal difference between volumes is {max(volumes_sg_2) - min(volumes_sg_2): .3f} for SG {unique_sg_symbols[1]}.\")"
   ]
  },
  {
   "cell_type": "markdown",
   "id": "3a9c04b7",
   "metadata": {},
   "source": [
    "## Verify structure equivalence"
   ]
  },
  {
   "cell_type": "code",
   "execution_count": null,
   "id": "a08d4c1f",
   "metadata": {},
   "outputs": [],
   "source": [
    "from itertools import combinations\n",
    "from ase.utils.structure_comparator import SymmetryEquivalenceCheck\n",
    "\n",
    "check = SymmetryEquivalenceCheck(scale_volume=True)\n",
    "\n",
    "# for each space group individually\n",
    "for key, mats in materials.items():\n",
    "    # for all combitnations of materials in that spacegroup\n",
    "    for m1, m2 in combinations(mats, 2):\n",
    "        # if they are not equivalent\n",
    "        if not check.compare(m1.atoms, m2.atoms):\n",
    "            # print their IDs\n",
    "            print(m1.mid, m2.mid)"
   ]
  }
 ],
 "metadata": {
  "kernelspec": {
   "display_name": "Python 3 (ipykernel)",
   "language": "python",
   "name": "python3"
  },
  "language_info": {
   "codemirror_mode": {
    "name": "ipython",
    "version": 3
   },
   "file_extension": ".py",
   "mimetype": "text/x-python",
   "name": "python",
   "nbconvert_exporter": "python",
   "pygments_lexer": "ipython3",
   "version": "3.10.13"
  }
 },
 "nbformat": 4,
 "nbformat_minor": 5
}
