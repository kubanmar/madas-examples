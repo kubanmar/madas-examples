{
 "cells": [
  {
   "cell_type": "markdown",
   "id": "586c2a84",
   "metadata": {},
   "source": [
    "# Finding convergence parameters in AlGaO$_\\mathbf{3}$ DOS calculations"
   ]
  },
  {
   "cell_type": "markdown",
   "id": "1ea9e17d",
   "metadata": {},
   "source": [
    "For this example we use a data set of 144 calculations of AlGaO$_3$ that were done with FHI-aims using different numerical settings and approximations. The data was produced for Ref. [1]. The data is hosted at [NOMAD](https://nomad-lab.eu/nomad-lab/) and can be downloaded using `MADAS`.\n",
    "\n",
    "To do so we first define the query:"
   ]
  },
  {
   "cell_type": "code",
   "execution_count": null,
   "id": "fc9d4e58",
   "metadata": {},
   "outputs": [],
   "source": [
    "AlGaO_query = {\n",
    "    \"datasets.dataset_name:any\": [\n",
    "      \"Numerical_Errors_FHI-aims\"\n",
    "    ],\n",
    "    \"results.material.elements:all\": [\n",
    "      \"Al\",\n",
    "      \"O\",\n",
    "      \"Ga\"\n",
    "    ],\n",
    "    \"results.properties.available_properties:all\": [\n",
    "      \"dos_electronic\"\n",
    "    ]\n",
    "  }"
   ]
  },
  {
   "cell_type": "markdown",
   "id": "ca5a2c5d",
   "metadata": {},
   "source": [
    "We use the NOMAD API in `MADAS`:"
   ]
  },
  {
   "cell_type": "code",
   "execution_count": null,
   "id": "c6d27402",
   "metadata": {},
   "outputs": [],
   "source": [
    "from madas.apis.NOMAD_web_API import API"
   ]
  },
  {
   "cell_type": "markdown",
   "id": "bd8e45ce",
   "metadata": {},
   "source": [
    "The values are extracted from the NOMAD Archives using the [following functions](https://github.com/kubanmar/madas-examples/blob/master/notebooks/processing_functions.py):"
   ]
  },
  {
   "cell_type": "code",
   "execution_count": null,
   "id": "bc2a74ab",
   "metadata": {},
   "outputs": [],
   "source": [
    "from processing_functions import get_dos_values, get_dos_energies, get_FHIaims_kpoints, get_FHIaims_n_basis_functions"
   ]
  },
  {
   "cell_type": "code",
   "execution_count": null,
   "id": "2b007bef",
   "metadata": {},
   "outputs": [],
   "source": [
    "processing = API().processing\n",
    "processing.pop(\"archive\")\n",
    "processing[\"electronic_dos_values\"] = get_dos_values\n",
    "processing[\"electronic_dos_energies\"] = get_dos_energies\n",
    "processing[\"kpoints\"] = get_FHIaims_kpoints\n",
    "processing[\"n_basis_functions\"] = get_FHIaims_n_basis_functions"
   ]
  },
  {
   "cell_type": "markdown",
   "id": "9bbe61df",
   "metadata": {},
   "source": [
    "Next we define our database for storing the data:"
   ]
  },
  {
   "cell_type": "code",
   "execution_count": null,
   "id": "ef68c62f",
   "metadata": {},
   "outputs": [],
   "source": [
    "from madas import MaterialsDatabase"
   ]
  },
  {
   "cell_type": "code",
   "execution_count": null,
   "id": "b9eb2c60",
   "metadata": {},
   "outputs": [],
   "source": [
    "db=MaterialsDatabase(filename=\"AlGaO_convergence.db\", \n",
    "                     api=API(processing=processing))"
   ]
  },
  {
   "cell_type": "code",
   "execution_count": null,
   "id": "2a06479b",
   "metadata": {
    "scrolled": true
   },
   "outputs": [],
   "source": [
    "db.fill_database(AlGaO_query)"
   ]
  },
  {
   "cell_type": "markdown",
   "id": "213ee6f6",
   "metadata": {},
   "source": [
    "In case some data could not be retrieved, we can retry them:"
   ]
  },
  {
   "cell_type": "code",
   "execution_count": null,
   "id": "f12d030a",
   "metadata": {},
   "outputs": [],
   "source": [
    "materials_retry = db.api.retry()\n",
    "if len(materials_retry) > 0:\n",
    "    db.backend.add_many(materials_retry)"
   ]
  },
  {
   "cell_type": "markdown",
   "id": "251fbb1f",
   "metadata": {},
   "source": [
    "Eventually, $144$ entries should be downloaded:"
   ]
  },
  {
   "cell_type": "code",
   "execution_count": null,
   "id": "bf9dce9f",
   "metadata": {},
   "outputs": [],
   "source": [
    "len(db)"
   ]
  },
  {
   "cell_type": "markdown",
   "id": "e47ce470",
   "metadata": {},
   "source": [
    "We then start generating fingerprints:"
   ]
  },
  {
   "cell_type": "code",
   "execution_count": null,
   "id": "c1f6a14e",
   "metadata": {},
   "outputs": [],
   "source": [
    "from madas.fingerprints import DOSFingerprint"
   ]
  },
  {
   "cell_type": "markdown",
   "id": "fa2f6453",
   "metadata": {},
   "source": [
    "We generate a grid for the DOS fingerprint [2] with a high number of pixels and a large energy range:"
   ]
  },
  {
   "cell_type": "code",
   "execution_count": null,
   "id": "8d041ae3",
   "metadata": {},
   "outputs": [],
   "source": [
    "grid = DOSFingerprint.get_default_grid().create(n_pix=2048, cutoff=[-8, 12])"
   ]
  },
  {
   "cell_type": "markdown",
   "id": "bee604cf",
   "metadata": {},
   "source": [
    "We add the fingerprints to the database:"
   ]
  },
  {
   "cell_type": "code",
   "execution_count": null,
   "id": "12559cd4",
   "metadata": {},
   "outputs": [],
   "source": [
    "db.add_fingerprint(\"DOS\", fingerprint_kwargs={\"grid_id\":grid.get_grid_id()})"
   ]
  },
  {
   "cell_type": "markdown",
   "id": "326f54a8",
   "metadata": {},
   "source": [
    "And compute a similarity matrix from these fingerprints:"
   ]
  },
  {
   "cell_type": "code",
   "execution_count": null,
   "id": "56fbe0dc",
   "metadata": {},
   "outputs": [],
   "source": [
    "simat = db.get_similarity_matrix(\"DOS\", name=\"DOS\")"
   ]
  },
  {
   "cell_type": "markdown",
   "id": "e79ec945",
   "metadata": {},
   "source": [
    "We sort the entries by mean similarity to the rest of the data set by taking the mean of each row of the similarity matrix."
   ]
  },
  {
   "cell_type": "code",
   "execution_count": null,
   "id": "50677656",
   "metadata": {},
   "outputs": [],
   "source": [
    "import numpy as np\n",
    "# tqdm progress bar for visualization of the progress \n",
    "from madas.utils import tqdm"
   ]
  },
  {
   "cell_type": "code",
   "execution_count": null,
   "id": "1a37f39d",
   "metadata": {},
   "outputs": [],
   "source": [
    "sorted_mids = list(sorted(simat.mids, key = lambda x: np.mean(simat[x])))"
   ]
  },
  {
   "cell_type": "code",
   "execution_count": null,
   "id": "2d280b0f",
   "metadata": {},
   "outputs": [],
   "source": [
    "nfunc, kpoints = [], []\n",
    "for mid in tqdm(sorted_mids):\n",
    "    entry = db[mid]\n",
    "    nfunc.append(entry.data[\"n_basis_functions\"])\n",
    "    kpoints.append(np.prod(entry.data[\"kpoints\"]))"
   ]
  },
  {
   "cell_type": "code",
   "execution_count": null,
   "id": "ad27bb6c",
   "metadata": {},
   "outputs": [],
   "source": [
    "import matplotlib.pyplot as plt\n",
    "from plotting_functions import similarity_kpoint_nfunc_plot\n",
    "plt.style.use(\"./settings.mplstyle\")"
   ]
  },
  {
   "cell_type": "code",
   "execution_count": null,
   "id": "9e0b9546",
   "metadata": {},
   "outputs": [],
   "source": [
    "# sort the matrix\n",
    "simat.get_sub_matrix(sorted_mids, copy=False)"
   ]
  },
  {
   "cell_type": "code",
   "execution_count": null,
   "id": "0f4ac3c3",
   "metadata": {},
   "outputs": [],
   "source": [
    "similarity_kpoint_nfunc_plot(simat, kpoints, nfunc, filename=None)"
   ]
  },
  {
   "cell_type": "markdown",
   "id": "fe254a8f",
   "metadata": {},
   "source": [
    "## References\n",
    "\n",
    "[1] Carbogno, C., Thygesen, K.S., Bieniek, B. et al. Numerical quality control for DFT-based materials databases. npj Comput Mater 8, 69 (2022). https://doi.org/10.1038/s41524-022-00744-4\n",
    "\n",
    "[2] Kuban, M., Rigamonti, S., Scheidgen, M. et al. Density-of-states similarity descriptor for unsupervised learning from materials data. Sci Data 9, 646 (2022). https://doi.org/10.1038/s41597-022-01754-z"
   ]
  }
 ],
 "metadata": {
  "kernelspec": {
   "display_name": "Python 3 (ipykernel)",
   "language": "python",
   "name": "python3"
  },
  "language_info": {
   "codemirror_mode": {
    "name": "ipython",
    "version": 3
   },
   "file_extension": ".py",
   "mimetype": "text/x-python",
   "name": "python",
   "nbconvert_exporter": "python",
   "pygments_lexer": "ipython3",
   "version": "3.10.4"
  }
 },
 "nbformat": 4,
 "nbformat_minor": 5
}
