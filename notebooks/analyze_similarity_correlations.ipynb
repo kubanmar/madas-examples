{
 "cells": [
  {
   "cell_type": "markdown",
   "id": "7cd1ff3b",
   "metadata": {},
   "source": [
    "# Analyze relationships between descriptors"
   ]
  },
  {
   "cell_type": "code",
   "execution_count": null,
   "id": "eecadc46",
   "metadata": {},
   "outputs": [],
   "source": [
    "from madas import MaterialsDatabase\n",
    "from madas.apis.NOMAD_web_API import API as web_API\n",
    "\n",
    "from processing_functions import get_dos_values, get_dos_energies"
   ]
  },
  {
   "cell_type": "code",
   "execution_count": null,
   "id": "4b9c3412",
   "metadata": {},
   "outputs": [],
   "source": [
    "query = {\n",
    "    \"and\": [\n",
    "      {\n",
    "        \"results.material.n_elements\": {\n",
    "          \"gte\": 3,\n",
    "          \"lte\": 3\n",
    "        },\n",
    "        \"results.material.symmetry.structure_name:any\": [\n",
    "          \"cubic perovskite\"\n",
    "        ],\n",
    "        \"results.method.simulation.program_name:any\": [\n",
    "          \"VASP\"\n",
    "        ],\n",
    "        \"external_db:any\": [\n",
    "          \"AFLOW\"\n",
    "        ],\n",
    "        \"results.properties.available_properties:all\": [\n",
    "          \"dos_electronic\"\n",
    "        ]\n",
    "      },\n",
    "      {\n",
    "        \"quantities:all\": [\n",
    "          \"results.method.simulation.program_name\"\n",
    "        ]\n",
    "      }\n",
    "    ]\n",
    "  }"
   ]
  },
  {
   "cell_type": "code",
   "execution_count": null,
   "id": "ebad48fb",
   "metadata": {},
   "outputs": [],
   "source": [
    "processing = web_API().processing\n",
    "processing.pop(\"archive\")\n",
    "processing[\"electronic_dos_values\"] = get_dos_values\n",
    "processing[\"electronic_dos_energies\"] = get_dos_energies"
   ]
  },
  {
   "cell_type": "code",
   "execution_count": null,
   "id": "9cdb08cd",
   "metadata": {},
   "outputs": [],
   "source": [
    "db = MaterialsDatabase(filename=\"AFLOW_cubic_perovskites.db\", api=web_API(processing=processing))"
   ]
  },
  {
   "cell_type": "code",
   "execution_count": null,
   "id": "200294be",
   "metadata": {},
   "outputs": [],
   "source": [
    "# some downloads will fail, but the majority are available\n",
    "db.fill_database(query)"
   ]
  },
  {
   "cell_type": "code",
   "execution_count": null,
   "id": "586f1326",
   "metadata": {},
   "outputs": [],
   "source": [
    "len(db)"
   ]
  },
  {
   "cell_type": "markdown",
   "id": "ae5e941a",
   "metadata": {},
   "source": [
    "## Gen fingerprints"
   ]
  },
  {
   "cell_type": "code",
   "execution_count": null,
   "id": "8a9cad2b",
   "metadata": {},
   "outputs": [],
   "source": [
    "import numpy as np\n",
    "from sklearn.metrics.pairwise import rbf_kernel\n",
    "\n",
    "from madas import Fingerprint\n",
    "\n",
    "# First we define how the similarity between two fingerprints can be calculated.\n",
    "# Here, we use the cosine similarity between two SOAP vectors as a metric.\n",
    "# To ensure numerical stability, the result is rounded by 12 digits.\n",
    "def SOAP_similarity(fp1, fp2, gamma=1e-9):\n",
    "    return np.round(rbf_kernel([fp1.data[\"coef\"]], [fp2.data[\"coef\"]], gamma=gamma)[0][0], 12)\n",
    "\n",
    "# Define a new Fingerprint class\n",
    "class SOAPFingerprint(Fingerprint):\n",
    "\n",
    "    # We need to pass the `SOAP` object to the fingerprint.\n",
    "    # Thus we define the `__init__` method of the class.\n",
    "    def __init__(self,\n",
    "                 name=None,\n",
    "                 similarity_function=SOAP_similarity,\n",
    "                 pass_on_exceptions=True,\n",
    "                 creator=None) -> None:\n",
    "        # Set the default values of the fingerprint\n",
    "        super().__init__(fp_type = \"SOAP\",\n",
    "                         name = name,\n",
    "                         similarity_function=similarity_function,\n",
    "                         pass_on_exceptions=pass_on_exceptions)\n",
    "        # The SOAP object will be called `creator`\n",
    "        self.creator = creator\n",
    "\n",
    "    # Every fingerprint needs a `from_material` method.\n",
    "    # It is used to derive the descriptor values from a `Material` object\n",
    "    def from_material(self, material):\n",
    "        # Upon calculation, we need to set the material id\n",
    "        self.set_mid(material)\n",
    "        # Next, calculate the descriptor data\n",
    "        at = material.atoms.copy()\n",
    "        at.set_atomic_numbers([1 for _ in at])\n",
    "        coef = self.creator.create(at)\n",
    "        # Store the data in the fingerprint to be retrieved later\n",
    "        self.set_data(\"coef\", coef.tolist())\n",
    "        return self"
   ]
  },
  {
   "cell_type": "code",
   "execution_count": null,
   "id": "8db7c13a",
   "metadata": {},
   "outputs": [],
   "source": [
    "# We need the class to create the descriptor data\n",
    "from dscribe.descriptors.soap import SOAP"
   ]
  },
  {
   "cell_type": "code",
   "execution_count": null,
   "id": "94d5e752",
   "metadata": {},
   "outputs": [],
   "source": [
    "soap = SOAP(r_cut=15, # cutoff radius: this property defines the length of interactions between ions\n",
    "            n_max=5, # number of basis functions\n",
    "            l_max=5, # highest order of spherical harmonics\n",
    "            species=[\"H\"],  # (complete) set of species\n",
    "            periodic=True, # periodicity of the input structures\n",
    "            average=\"outer\") # average local environments to obtain a global descriptor"
   ]
  },
  {
   "cell_type": "code",
   "execution_count": null,
   "id": "6d8761e2",
   "metadata": {},
   "outputs": [],
   "source": [
    "from madas.fingerprints import DOSFingerprint"
   ]
  },
  {
   "cell_type": "code",
   "execution_count": null,
   "id": "5fcf7f30",
   "metadata": {},
   "outputs": [],
   "source": [
    "grid=DOSFingerprint.get_default_grid().create(e_ref=-2, delta_e_max=1.5, cutoff=[-8,12], n_pix=1024)"
   ]
  },
  {
   "cell_type": "code",
   "execution_count": null,
   "id": "2425fdda",
   "metadata": {},
   "outputs": [],
   "source": [
    "db.get_metadata()"
   ]
  },
  {
   "cell_type": "code",
   "execution_count": null,
   "id": "50d08855",
   "metadata": {},
   "outputs": [],
   "source": [
    "# Calculate fingerprints and store them in the database\n",
    "db.add_fingerprints([\"PTE\", \"DOS\", SOAPFingerprint],\n",
    "                    names=[\"PTE\", \"DOS\", \"SOAP\"],\n",
    "                    fingerprint_kwargs_list=[{}, {\"grid_id\":grid.get_grid_id()}, {\"creator\":soap}])\n",
    "# Ignoring entries where Xe is not recognized properly \n",
    "# (see https://gitlab.mpcdf.mpg.de/nomad-lab/nomad-FAIR/-/issues/1850) "
   ]
  },
  {
   "cell_type": "code",
   "execution_count": null,
   "id": "c8fac26c",
   "metadata": {},
   "outputs": [],
   "source": [
    "# Generate similarity matrices\n",
    "pte_simat = db.get_similarity_matrix(\"PTE\", name=\"PTE\")\n",
    "dos_simat = db.get_similarity_matrix(\"DOS\", name=\"DOS\")"
   ]
  },
  {
   "cell_type": "code",
   "execution_count": null,
   "id": "88e08c76",
   "metadata": {},
   "outputs": [],
   "source": [
    "# For the SOAP fingerprint, we pass the class directly\n",
    "soap_simat = db.get_similarity_matrix(SOAPFingerprint, name=\"SOAP\")"
   ]
  },
  {
   "cell_type": "code",
   "execution_count": null,
   "id": "a0cef183",
   "metadata": {},
   "outputs": [],
   "source": [
    "# align matrices to account for missing entries in some of them\n",
    "pte_simat.align([soap_simat, dos_simat])"
   ]
  },
  {
   "cell_type": "markdown",
   "id": "28a85376",
   "metadata": {},
   "source": [
    "### Find clusters in the similarity matrices"
   ]
  },
  {
   "cell_type": "code",
   "execution_count": null,
   "id": "aa81aa45",
   "metadata": {},
   "outputs": [],
   "source": [
    "from threshold_clusterer import ThresholdClusterer\n",
    "\n",
    "from madas.clustering import SimilarityMatrixClusterer\n",
    "\n",
    "clus_pte = SimilarityMatrixClusterer(pte_simat, \n",
    "                                     clusterer=ThresholdClusterer, \n",
    "                                     clusterer_kwargs={\"threshold\":1}, \n",
    "                                     use_complement=False).cluster()\n",
    "clus_dos = SimilarityMatrixClusterer(dos_simat, \n",
    "                                     clusterer=ThresholdClusterer, \n",
    "                                     clusterer_kwargs={\"threshold\":0.75}, \n",
    "                                     use_complement=False).cluster()\n",
    "clus_soap = SimilarityMatrixClusterer(soap_simat,\n",
    "                                      clusterer=ThresholdClusterer, \n",
    "                                      clusterer_kwargs={\"threshold\":0.75}, \n",
    "                                      use_complement=False).cluster()"
   ]
  },
  {
   "cell_type": "code",
   "execution_count": null,
   "id": "ac131ab9",
   "metadata": {},
   "outputs": [],
   "source": [
    "import matplotlib.pyplot as plt\n",
    "plt.style.use(\"./settings.mplstyle\")\n",
    "\n",
    "from plotting_functions import plot_clustered_similarity_matrices_comparison"
   ]
  },
  {
   "cell_type": "code",
   "execution_count": null,
   "id": "87f59928",
   "metadata": {},
   "outputs": [],
   "source": [
    "plot_clustered_similarity_matrices_comparison(clus_pte, clus_soap, clus_dos, filename=None)"
   ]
  },
  {
   "cell_type": "markdown",
   "id": "60ceb97f",
   "metadata": {},
   "source": [
    "### Appendix: Investigate duplicate entries"
   ]
  },
  {
   "cell_type": "code",
   "execution_count": null,
   "id": "6031e07f",
   "metadata": {},
   "outputs": [],
   "source": [
    "# Get mids of the materials of the very compact DOS cluster\n",
    "mids_identical_cluster = clus_dos.get_mids_by_cluster_label(0)"
   ]
  },
  {
   "cell_type": "code",
   "execution_count": null,
   "id": "b1840b28",
   "metadata": {},
   "outputs": [],
   "source": [
    "# Plot sub matrices of materials contained in this cluster  \n",
    "# to verify that they are highly similar\n",
    "plt.figure()\n",
    "plt.imshow(dos_simat.get_sub_matrix(mids_identical_cluster))\n",
    "plt.title(\"DOS similarity\")\n",
    "plt.colorbar()\n",
    "plt.figure()\n",
    "plt.imshow(soap_simat.get_sub_matrix(mids_identical_cluster))\n",
    "plt.title(\"SOAP similarity\", pad=30)\n",
    "plt.colorbar()\n",
    "plt.figure()\n",
    "plt.imshow(pte_simat.get_sub_matrix(mids_identical_cluster))\n",
    "plt.title(\"PTE similarity\")\n",
    "plt.colorbar()\n",
    "plt.show()"
   ]
  },
  {
   "cell_type": "code",
   "execution_count": null,
   "id": "ceff7a08",
   "metadata": {},
   "outputs": [],
   "source": [
    "# Print all unique formulas\n",
    "set([db[mid].atoms.get_chemical_formula() for mid in mids_identical_cluster])"
   ]
  },
  {
   "cell_type": "code",
   "execution_count": null,
   "id": "7ddbea5c",
   "metadata": {},
   "outputs": [],
   "source": [
    "# Plor distribution of volumes\n",
    "plt.figure(figsize=(15,5))\n",
    "plt.hist([db[mid].atoms.get_volume() for mid in mids_identical_cluster], bins=30)\n",
    "plt.show()"
   ]
  },
  {
   "cell_type": "code",
   "execution_count": null,
   "id": "90c0de48",
   "metadata": {},
   "outputs": [],
   "source": [
    "from processing_functions import get_total_energy_eV"
   ]
  },
  {
   "cell_type": "code",
   "execution_count": null,
   "id": "1f54adf4",
   "metadata": {},
   "outputs": [],
   "source": [
    "from madas.utils import tqdm"
   ]
  },
  {
   "cell_type": "code",
   "execution_count": null,
   "id": "74308e5a",
   "metadata": {},
   "outputs": [],
   "source": [
    "# Plot distribution of energies\n",
    "plt.figure(figsize=(15,5))\n",
    "plt.hist([db.api.get_property(get_total_energy_eV, mid) for mid in tqdm(mids_identical_cluster)], bins=30)\n",
    "plt.show()"
   ]
  }
 ],
 "metadata": {
  "kernelspec": {
   "display_name": "simdatframe-release",
   "language": "python",
   "name": "simdatframe-release"
  },
  "language_info": {
   "codemirror_mode": {
    "name": "ipython",
    "version": 3
   },
   "file_extension": ".py",
   "mimetype": "text/x-python",
   "name": "python",
   "nbconvert_exporter": "python",
   "pygments_lexer": "ipython3",
   "version": "3.10.4"
  }
 },
 "nbformat": 4,
 "nbformat_minor": 5
}
